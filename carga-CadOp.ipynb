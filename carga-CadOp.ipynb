{
 "cells": [
  {
   "cell_type": "markdown",
   "source": [
    "# Carga Operadoras privadas de planos de saúde\n",
    "# contagem do número de planos de saúde em PE\n",
    "### http://ftp.dadosabertos.ans.gov.br/FTP/PDA/operadoras_de_plano_de_saude_ativas/Relatorio_cadop.csv\n",
    "\n",
    "- importação do arquivo CSV\n",
    "- Filtragem dos registroes UF=PE\n",
    "- Contagem da quantidade de planos de saúde em PE\n",
    "- Lista dos nomes de fantasia dos planos de saúde em PE"
   ],
   "metadata": {}
  },
  {
   "cell_type": "code",
   "execution_count": 12,
   "source": [
    "import pandas as pd\n",
    "import tabulate"
   ],
   "outputs": [],
   "metadata": {}
  },
  {
   "cell_type": "code",
   "execution_count": 2,
   "source": [
    "alldfs = [var for var in dir() if isinstance(eval(var), pd.core.frame.DataFrame)]\n",
    "print(alldfs)"
   ],
   "outputs": [
    {
     "output_type": "stream",
     "name": "stdout",
     "text": [
      "[]\n"
     ]
    }
   ],
   "metadata": {}
  },
  {
   "cell_type": "code",
   "execution_count": 3,
   "source": [
    "dfCadOp = pd.read_csv(\"http://ftp.dadosabertos.ans.gov.br/FTP/PDA/operadoras_de_plano_de_saude_ativas/Relatorio_cadop.csv\",\n",
    "sep=\";\",encoding=\"LATIN1\")"
   ],
   "outputs": [],
   "metadata": {}
  },
  {
   "cell_type": "code",
   "execution_count": 4,
   "source": [
    "dfCadOp.columns"
   ],
   "outputs": [
    {
     "output_type": "execute_result",
     "data": {
      "text/plain": [
       "Index(['Registro_ANS', 'CNPJ', 'Razao_Social', 'Nome_Fantasia', 'Modalidade',\n",
       "       'Logradouro', 'Numero', 'Complemento', 'Bairro', 'Cidade', 'UF', 'CEP',\n",
       "       'DDD', 'Telefone', 'Fax', 'Endereco_eletronico', 'Representante',\n",
       "       'Cargo_Representante', 'Regiao_de_Comercializacao',\n",
       "       'Data_Registro_ANS'],\n",
       "      dtype='object')"
      ]
     },
     "metadata": {},
     "execution_count": 4
    }
   ],
   "metadata": {}
  },
  {
   "cell_type": "code",
   "execution_count": 22,
   "source": [
    "isPE = dfCadOp['UF'] == 'PE'\n",
    "dfCadOpPE = dfCadOp[isPE]\n",
    "print('Quantidade de planos de saúde privados em Pernambuco: {}'.format(len(dfCadOpPE.index)))\n",
    "print(dfCadOpPE[['Registro_ANS', 'Razao_Social']])\n"
   ],
   "outputs": [
    {
     "output_type": "stream",
     "name": "stdout",
     "text": [
      "Quantidade de planos de saúde privados em Pernambuco: 16\n",
      "      Registro_ANS                                       Razao_Social\n",
      "194         302627  CAIXA DE ASSISTÊNCIA DOS MAGISTRADOS DE PERNAM...\n",
      "200         417661  CAIXA DE ASSISTÊNCIA À SAÚDE DO SINDICATO DOS ...\n",
      "274         342335  COOPERATIVA ODONTOLÓGICA DE GARANHUNS E AGREST...\n",
      "302         416908  DENTALPLAN PLANOS DE ASSISTENCIA ODONTOLOGICA ...\n",
      "325         420905                        ESTALEIRO ATLÂNTICO SUL S/A\n",
      "340         307751  FUNDAÇAO COMPESA DE PREVIDENCIA E ASSISTENCIA ...\n",
      "346         317233  FUNDAÇÃO CHESF DE ASSISTÊNCIA E SEGURIDADE SOCIAL\n",
      "524         417068  ODONTOFACE OPERADORA DE PLANOS DE SAUDE ODONTO...\n",
      "532         412040                                   ODONTOREAL LTDA.\n",
      "608         401609                             PREV-SYSTEM EIRELI EPP\n",
      "746         403962              SÃO FRANCISCO ASSISTÊNCIA MÉDICA LTDA\n",
      "801         340952      UNIMED CARUARU-COOPERATIVA DE TRABALHO MEDICO\n",
      "977         344885       UNIMED RECIFE COOPERATIVA DE TRABALHO MÉDICO\n",
      "1029        323268  UNIMED VALE DO SÃO FRANCISCO COOPERATIVA DE TR...\n",
      "1038        414891  UNIODONTO - COOPERATIVA ODONTOLOGICA DE CARUAR...\n",
      "1074        305740     UNIODONTO DE RECIFE - COOPERATIVA ODONTOLÓGICA\n"
     ]
    }
   ],
   "metadata": {}
  },
  {
   "cell_type": "code",
   "execution_count": null,
   "source": [],
   "outputs": [],
   "metadata": {}
  }
 ],
 "metadata": {
  "kernelspec": {
   "name": "python3",
   "display_name": "Python 3.8.10 64-bit ('pyenv': venv)"
  },
  "language_info": {
   "codemirror_mode": {
    "name": "ipython",
    "version": 3
   },
   "file_extension": ".py",
   "mimetype": "text/x-python",
   "name": "python",
   "nbconvert_exporter": "python",
   "pygments_lexer": "ipython3",
   "version": "3.8.10"
  },
  "interpreter": {
   "hash": "b1c93ddc4a0b50ebbbb3f759453d746e34ceafd8d5aad11ba5e10c62c896ca70"
  }
 },
 "nbformat": 4,
 "nbformat_minor": 5
}